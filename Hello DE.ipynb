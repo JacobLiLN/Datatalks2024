{
 "cells": [
  {
   "cell_type": "code",
   "execution_count": 2,
   "id": "24195308-ab03-4995-a088-0151787609af",
   "metadata": {},
   "outputs": [
    {
     "name": "stdout",
     "output_type": "stream",
     "text": [
      "Jacob is a Data Engineer\n"
     ]
    }
   ],
   "source": [
    "print('{a} is a {b}'.format(a='Jacob',b='Data Engineer'))"
   ]
  },
  {
   "cell_type": "code",
   "execution_count": null,
   "id": "975313a0-151c-40a7-9280-aa4364b958d5",
   "metadata": {},
   "outputs": [],
   "source": []
  }
 ],
 "metadata": {
  "kernelspec": {
   "display_name": "Python 3 (ipykernel)",
   "language": "python",
   "name": "python3"
  },
  "language_info": {
   "codemirror_mode": {
    "name": "ipython",
    "version": 3
   },
   "file_extension": ".py",
   "mimetype": "text/x-python",
   "name": "python",
   "nbconvert_exporter": "python",
   "pygments_lexer": "ipython3",
   "version": "3.10.13"
  }
 },
 "nbformat": 4,
 "nbformat_minor": 5
}
