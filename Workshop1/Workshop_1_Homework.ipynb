{
 "cells": [
  {
   "cell_type": "code",
   "execution_count": 1,
   "id": "59a70cec-a11d-4f67-86e0-92d8b5033918",
   "metadata": {},
   "outputs": [],
   "source": [
    "%%capture\n",
    "!pip install dlt[duckdb]"
   ]
  },
  {
   "cell_type": "code",
   "execution_count": 2,
   "id": "90d8dd96-a1cf-47ff-95f6-e54dde9f9e2d",
   "metadata": {},
   "outputs": [
    {
     "name": "stdout",
     "output_type": "stream",
     "text": [
      "1th number: 1.0\n",
      "2th number: 1.4142135623730951\n",
      "3th number: 1.7320508075688772\n",
      "4th number: 2.0\n",
      "5th number: 2.23606797749979\n",
      "6th number: 2.449489742783178\n",
      "7th number: 2.6457513110645907\n",
      "8th number: 2.8284271247461903\n",
      "9th number: 3.0\n",
      "10th number: 3.1622776601683795\n",
      "11th number: 3.3166247903554\n",
      "12th number: 3.4641016151377544\n",
      "13th number: 3.605551275463989\n",
      "32.854555867161245\n"
     ]
    }
   ],
   "source": [
    "def square_root_generator(limit):\n",
    "    n = 1\n",
    "    while n <= limit:\n",
    "        yield n ** 0.5\n",
    "        n += 1\n",
    "\n",
    "# Example usage:\n",
    "limit = 13\n",
    "generator = square_root_generator(limit)\n",
    "\n",
    "i = 0\n",
    "sum_generator = 0\n",
    "for sqrt_value in generator:\n",
    "    sum_generator += sqrt_value\n",
    "    i += 1\n",
    "    print(f'{i}th number: {sqrt_value}')\n",
    "\n",
    "print(sum_generator)"
   ]
  },
  {
   "cell_type": "code",
   "execution_count": 3,
   "id": "638351b8-be33-48a6-bcd9-16b805d6eccb",
   "metadata": {},
   "outputs": [
    {
     "name": "stdout",
     "output_type": "stream",
     "text": [
      "{'ID': 1, 'Name': 'Person_1', 'Age': 26, 'City': 'City_A'}\n",
      "{'ID': 2, 'Name': 'Person_2', 'Age': 27, 'City': 'City_A'}\n",
      "{'ID': 3, 'Name': 'Person_3', 'Age': 28, 'City': 'City_A'}\n",
      "{'ID': 4, 'Name': 'Person_4', 'Age': 29, 'City': 'City_A'}\n",
      "{'ID': 5, 'Name': 'Person_5', 'Age': 30, 'City': 'City_A'}\n",
      "{'ID': 3, 'Name': 'Person_3', 'Age': 33, 'City': 'City_B', 'Occupation': 'Job_3'}\n",
      "{'ID': 4, 'Name': 'Person_4', 'Age': 34, 'City': 'City_B', 'Occupation': 'Job_4'}\n",
      "{'ID': 5, 'Name': 'Person_5', 'Age': 35, 'City': 'City_B', 'Occupation': 'Job_5'}\n",
      "{'ID': 6, 'Name': 'Person_6', 'Age': 36, 'City': 'City_B', 'Occupation': 'Job_6'}\n",
      "{'ID': 7, 'Name': 'Person_7', 'Age': 37, 'City': 'City_B', 'Occupation': 'Job_7'}\n",
      "{'ID': 8, 'Name': 'Person_8', 'Age': 38, 'City': 'City_B', 'Occupation': 'Job_8'}\n"
     ]
    }
   ],
   "source": [
    "def people_1():\n",
    "    for i in range(1, 6):\n",
    "        yield {\"ID\": i, \"Name\": f\"Person_{i}\", \"Age\": 25 + i, \"City\": \"City_A\"}\n",
    "\n",
    "for person in people_1():\n",
    "    print(person)\n",
    "\n",
    "\n",
    "def people_2():\n",
    "    for i in range(3, 9):\n",
    "        yield {\"ID\": i, \"Name\": f\"Person_{i}\", \"Age\": 30 + i, \"City\": \"City_B\", \"Occupation\": f\"Job_{i}\"}\n",
    "\n",
    "\n",
    "for person in people_2():\n",
    "    print(person)\n"
   ]
  },
  {
   "cell_type": "code",
   "execution_count": 4,
   "id": "b5404386-254a-411c-9f1a-126de1d3fbf4",
   "metadata": {},
   "outputs": [],
   "source": [
    "import dlt\n",
    "import duckdb"
   ]
  },
  {
   "cell_type": "code",
   "execution_count": 5,
   "id": "f1e241ef-7127-4a1b-bb4c-52e75430149c",
   "metadata": {},
   "outputs": [],
   "source": [
    "pipeline_hw = dlt.pipeline(destination = 'duckdb', dataset_name='homework')"
   ]
  },
  {
   "cell_type": "code",
   "execution_count": 6,
   "id": "3e92b077-68e2-4a9b-98f6-2ee5c9afc2d0",
   "metadata": {},
   "outputs": [
    {
     "name": "stdout",
     "output_type": "stream",
     "text": [
      "Pipeline dlt_ipykernel_launcher load step completed in 0.52 seconds\n",
      "1 load package(s) were loaded to destination duckdb and into dataset homework\n",
      "The duckdb destination used duckdb:////workspaces/Datatalks2024/Workshop1/dlt_ipykernel_launcher.duckdb location to store data\n",
      "Load package 1707513863.6362877 is LOADED and contains no failed jobs\n"
     ]
    }
   ],
   "source": [
    "info = pipeline_hw.run(people_1(), table_name='people',write_disposition='replace')\n",
    "print(info)"
   ]
  },
  {
   "cell_type": "code",
   "execution_count": 7,
   "id": "61fa63ad-f8af-457f-8c2f-1ba17f140913",
   "metadata": {},
   "outputs": [
    {
     "name": "stdout",
     "output_type": "stream",
     "text": [
      "Pipeline dlt_ipykernel_launcher load step completed in 0.41 seconds\n",
      "1 load package(s) were loaded to destination duckdb and into dataset homework\n",
      "The duckdb destination used duckdb:////workspaces/Datatalks2024/Workshop1/dlt_ipykernel_launcher.duckdb location to store data\n",
      "Load package 1707513878.7535768 is LOADED and contains no failed jobs\n"
     ]
    }
   ],
   "source": [
    "info = pipeline_hw.run(people_2(),table_name='people',write_disposition='append')\n",
    "print(info)"
   ]
  },
  {
   "cell_type": "code",
   "execution_count": 8,
   "id": "f93406d0-1e80-4419-9457-9f57ec15c3e7",
   "metadata": {},
   "outputs": [
    {
     "name": "stdout",
     "output_type": "stream",
     "text": [
      "Loaded tables: \n"
     ]
    },
    {
     "data": {
      "text/plain": [
       "┌─────────────────────┐\n",
       "│        name         │\n",
       "│       varchar       │\n",
       "├─────────────────────┤\n",
       "│ _dlt_loads          │\n",
       "│ _dlt_pipeline_state │\n",
       "│ _dlt_version        │\n",
       "│ people              │\n",
       "└─────────────────────┘"
      ]
     },
     "metadata": {},
     "output_type": "display_data"
    }
   ],
   "source": [
    "conn = duckdb.connect(f\"{pipeline_hw.pipeline_name}.duckdb\")\n",
    "\n",
    "conn.sql(f\"SET search_path = '{pipeline_hw.dataset_name}'\")\n",
    "\n",
    "print('Loaded tables: ')\n",
    "display(conn.sql(\"show tables\"))"
   ]
  },
  {
   "cell_type": "code",
   "execution_count": 9,
   "id": "302d0014-3a76-4893-b2ac-0115d0737860",
   "metadata": {},
   "outputs": [
    {
     "data": {
      "text/html": [
       "<div>\n",
       "<style scoped>\n",
       "    .dataframe tbody tr th:only-of-type {\n",
       "        vertical-align: middle;\n",
       "    }\n",
       "\n",
       "    .dataframe tbody tr th {\n",
       "        vertical-align: top;\n",
       "    }\n",
       "\n",
       "    .dataframe thead th {\n",
       "        text-align: right;\n",
       "    }\n",
       "</style>\n",
       "<table border=\"1\" class=\"dataframe\">\n",
       "  <thead>\n",
       "    <tr style=\"text-align: right;\">\n",
       "      <th></th>\n",
       "      <th>sum(Age)</th>\n",
       "    </tr>\n",
       "  </thead>\n",
       "  <tbody>\n",
       "    <tr>\n",
       "      <th>0</th>\n",
       "      <td>353.0</td>\n",
       "    </tr>\n",
       "  </tbody>\n",
       "</table>\n",
       "</div>"
      ],
      "text/plain": [
       "   sum(Age)\n",
       "0     353.0"
      ]
     },
     "metadata": {},
     "output_type": "display_data"
    }
   ],
   "source": [
    "people = conn.sql(\"select sum(Age) from people\").df()\n",
    "display(people)"
   ]
  },
  {
   "cell_type": "code",
   "execution_count": 10,
   "id": "d477a0ec-ff9a-4a34-ae4d-de0aca1e7262",
   "metadata": {},
   "outputs": [
    {
     "name": "stdout",
     "output_type": "stream",
     "text": [
      "Pipeline dlt_ipykernel_launcher load step completed in 0.26 seconds\n",
      "1 load package(s) were loaded to destination duckdb and into dataset homework\n",
      "The duckdb destination used duckdb:////workspaces/Datatalks2024/Workshop1/dlt_ipykernel_launcher.duckdb location to store data\n",
      "Load package 1707513914.2280374 is LOADED and contains no failed jobs\n"
     ]
    }
   ],
   "source": [
    "info = pipeline_hw.run(people_1(), table_name='people',write_disposition='replace',primary_key=\"ID\")\n",
    "print(info)"
   ]
  },
  {
   "cell_type": "code",
   "execution_count": 11,
   "id": "b8ccf2eb-52f2-47bf-99f5-25ca0b30f0bb",
   "metadata": {},
   "outputs": [
    {
     "name": "stdout",
     "output_type": "stream",
     "text": [
      "Pipeline dlt_ipykernel_launcher load step completed in 0.46 seconds\n",
      "1 load package(s) were loaded to destination duckdb and into dataset homework\n",
      "The duckdb destination used duckdb:////workspaces/Datatalks2024/Workshop1/dlt_ipykernel_launcher.duckdb location to store data\n",
      "Load package 1707513926.1114733 is LOADED and contains no failed jobs\n"
     ]
    }
   ],
   "source": [
    "info = pipeline_hw.run(people_2(),table_name='people',write_disposition='merge',primary_key=\"ID\")\n",
    "print(info)"
   ]
  },
  {
   "cell_type": "code",
   "execution_count": 12,
   "id": "3e3c1bbe-afae-4227-b45b-b701ae476635",
   "metadata": {},
   "outputs": [
    {
     "data": {
      "text/html": [
       "<div>\n",
       "<style scoped>\n",
       "    .dataframe tbody tr th:only-of-type {\n",
       "        vertical-align: middle;\n",
       "    }\n",
       "\n",
       "    .dataframe tbody tr th {\n",
       "        vertical-align: top;\n",
       "    }\n",
       "\n",
       "    .dataframe thead th {\n",
       "        text-align: right;\n",
       "    }\n",
       "</style>\n",
       "<table border=\"1\" class=\"dataframe\">\n",
       "  <thead>\n",
       "    <tr style=\"text-align: right;\">\n",
       "      <th></th>\n",
       "      <th>id</th>\n",
       "      <th>name</th>\n",
       "      <th>age</th>\n",
       "      <th>city</th>\n",
       "      <th>_dlt_load_id</th>\n",
       "      <th>_dlt_id</th>\n",
       "      <th>occupation</th>\n",
       "    </tr>\n",
       "  </thead>\n",
       "  <tbody>\n",
       "    <tr>\n",
       "      <th>0</th>\n",
       "      <td>1</td>\n",
       "      <td>Person_1</td>\n",
       "      <td>26</td>\n",
       "      <td>City_A</td>\n",
       "      <td>1707513914.2280374</td>\n",
       "      <td>OJgtMzVWiotDKQ</td>\n",
       "      <td>None</td>\n",
       "    </tr>\n",
       "    <tr>\n",
       "      <th>1</th>\n",
       "      <td>2</td>\n",
       "      <td>Person_2</td>\n",
       "      <td>27</td>\n",
       "      <td>City_A</td>\n",
       "      <td>1707513914.2280374</td>\n",
       "      <td>1/p0rBOTprn9CQ</td>\n",
       "      <td>None</td>\n",
       "    </tr>\n",
       "    <tr>\n",
       "      <th>2</th>\n",
       "      <td>8</td>\n",
       "      <td>Person_8</td>\n",
       "      <td>38</td>\n",
       "      <td>City_B</td>\n",
       "      <td>1707513926.1114733</td>\n",
       "      <td>zM/SHS8BfO5TVg</td>\n",
       "      <td>Job_8</td>\n",
       "    </tr>\n",
       "    <tr>\n",
       "      <th>3</th>\n",
       "      <td>3</td>\n",
       "      <td>Person_3</td>\n",
       "      <td>33</td>\n",
       "      <td>City_B</td>\n",
       "      <td>1707513926.1114733</td>\n",
       "      <td>Gl/um+aFyJXBBA</td>\n",
       "      <td>Job_3</td>\n",
       "    </tr>\n",
       "    <tr>\n",
       "      <th>4</th>\n",
       "      <td>6</td>\n",
       "      <td>Person_6</td>\n",
       "      <td>36</td>\n",
       "      <td>City_B</td>\n",
       "      <td>1707513926.1114733</td>\n",
       "      <td>rq7WP4sRxbXpWw</td>\n",
       "      <td>Job_6</td>\n",
       "    </tr>\n",
       "    <tr>\n",
       "      <th>5</th>\n",
       "      <td>5</td>\n",
       "      <td>Person_5</td>\n",
       "      <td>35</td>\n",
       "      <td>City_B</td>\n",
       "      <td>1707513926.1114733</td>\n",
       "      <td>tQqrwkxUVIW5FA</td>\n",
       "      <td>Job_5</td>\n",
       "    </tr>\n",
       "    <tr>\n",
       "      <th>6</th>\n",
       "      <td>7</td>\n",
       "      <td>Person_7</td>\n",
       "      <td>37</td>\n",
       "      <td>City_B</td>\n",
       "      <td>1707513926.1114733</td>\n",
       "      <td>JLMtFqBpaDAqfA</td>\n",
       "      <td>Job_7</td>\n",
       "    </tr>\n",
       "    <tr>\n",
       "      <th>7</th>\n",
       "      <td>4</td>\n",
       "      <td>Person_4</td>\n",
       "      <td>34</td>\n",
       "      <td>City_B</td>\n",
       "      <td>1707513926.1114733</td>\n",
       "      <td>yn+BpO5cUl9ApQ</td>\n",
       "      <td>Job_4</td>\n",
       "    </tr>\n",
       "  </tbody>\n",
       "</table>\n",
       "</div>"
      ],
      "text/plain": [
       "   id      name  age    city        _dlt_load_id         _dlt_id occupation\n",
       "0   1  Person_1   26  City_A  1707513914.2280374  OJgtMzVWiotDKQ       None\n",
       "1   2  Person_2   27  City_A  1707513914.2280374  1/p0rBOTprn9CQ       None\n",
       "2   8  Person_8   38  City_B  1707513926.1114733  zM/SHS8BfO5TVg      Job_8\n",
       "3   3  Person_3   33  City_B  1707513926.1114733  Gl/um+aFyJXBBA      Job_3\n",
       "4   6  Person_6   36  City_B  1707513926.1114733  rq7WP4sRxbXpWw      Job_6\n",
       "5   5  Person_5   35  City_B  1707513926.1114733  tQqrwkxUVIW5FA      Job_5\n",
       "6   7  Person_7   37  City_B  1707513926.1114733  JLMtFqBpaDAqfA      Job_7\n",
       "7   4  Person_4   34  City_B  1707513926.1114733  yn+BpO5cUl9ApQ      Job_4"
      ]
     },
     "metadata": {},
     "output_type": "display_data"
    }
   ],
   "source": [
    "people_info = conn.sql(\"select * from people\").df()\n",
    "display(people_info)"
   ]
  },
  {
   "cell_type": "code",
   "execution_count": 13,
   "id": "6626b224-fd90-4e18-8f8c-de654ec33ce6",
   "metadata": {},
   "outputs": [
    {
     "data": {
      "text/html": [
       "<div>\n",
       "<style scoped>\n",
       "    .dataframe tbody tr th:only-of-type {\n",
       "        vertical-align: middle;\n",
       "    }\n",
       "\n",
       "    .dataframe tbody tr th {\n",
       "        vertical-align: top;\n",
       "    }\n",
       "\n",
       "    .dataframe thead th {\n",
       "        text-align: right;\n",
       "    }\n",
       "</style>\n",
       "<table border=\"1\" class=\"dataframe\">\n",
       "  <thead>\n",
       "    <tr style=\"text-align: right;\">\n",
       "      <th></th>\n",
       "      <th>sum(Age)</th>\n",
       "    </tr>\n",
       "  </thead>\n",
       "  <tbody>\n",
       "    <tr>\n",
       "      <th>0</th>\n",
       "      <td>266.0</td>\n",
       "    </tr>\n",
       "  </tbody>\n",
       "</table>\n",
       "</div>"
      ],
      "text/plain": [
       "   sum(Age)\n",
       "0     266.0"
      ]
     },
     "metadata": {},
     "output_type": "display_data"
    }
   ],
   "source": [
    "sum_age = conn.sql(\"select sum(Age) from people\").df()\n",
    "display(sum_age)"
   ]
  },
  {
   "cell_type": "code",
   "execution_count": null,
   "id": "fd07295c-4e96-4e11-a153-7c8d2a37d43e",
   "metadata": {},
   "outputs": [],
   "source": []
  }
 ],
 "metadata": {
  "kernelspec": {
   "display_name": "Python 3 (ipykernel)",
   "language": "python",
   "name": "python3"
  },
  "language_info": {
   "codemirror_mode": {
    "name": "ipython",
    "version": 3
   },
   "file_extension": ".py",
   "mimetype": "text/x-python",
   "name": "python",
   "nbconvert_exporter": "python",
   "pygments_lexer": "ipython3",
   "version": "3.10.13"
  }
 },
 "nbformat": 4,
 "nbformat_minor": 5
}
